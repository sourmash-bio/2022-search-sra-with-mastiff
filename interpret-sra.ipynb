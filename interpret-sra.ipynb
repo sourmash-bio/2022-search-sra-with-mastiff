{
 "cells": [
  {
   "cell_type": "code",
   "execution_count": 1,
   "id": "0b6af9cd",
   "metadata": {},
   "outputs": [],
   "source": [
    "import pandas as pd\n",
    "import os"
   ]
  },
  {
   "cell_type": "code",
   "execution_count": 2,
   "id": "7a72d081",
   "metadata": {},
   "outputs": [
    {
     "name": "stdout",
     "output_type": "stream",
     "text": [
      "Loaded 702013 records from sra.runinfo.csv.gz\n"
     ]
    },
    {
     "data": {
      "text/html": [
       "<div>\n",
       "<style scoped>\n",
       "    .dataframe tbody tr th:only-of-type {\n",
       "        vertical-align: middle;\n",
       "    }\n",
       "\n",
       "    .dataframe tbody tr th {\n",
       "        vertical-align: top;\n",
       "    }\n",
       "\n",
       "    .dataframe thead th {\n",
       "        text-align: right;\n",
       "    }\n",
       "</style>\n",
       "<table border=\"1\" class=\"dataframe\">\n",
       "  <thead>\n",
       "    <tr style=\"text-align: right;\">\n",
       "      <th></th>\n",
       "      <th>Unnamed: 0</th>\n",
       "      <th>Run</th>\n",
       "      <th>ScientificName</th>\n",
       "    </tr>\n",
       "  </thead>\n",
       "  <tbody>\n",
       "    <tr>\n",
       "      <th>0</th>\n",
       "      <td>0</td>\n",
       "      <td>SRR18036904</td>\n",
       "      <td>bovine metagenome</td>\n",
       "    </tr>\n",
       "    <tr>\n",
       "      <th>1</th>\n",
       "      <td>1</td>\n",
       "      <td>SRR18036905</td>\n",
       "      <td>bovine metagenome</td>\n",
       "    </tr>\n",
       "    <tr>\n",
       "      <th>2</th>\n",
       "      <td>2</td>\n",
       "      <td>SRR18036906</td>\n",
       "      <td>bovine metagenome</td>\n",
       "    </tr>\n",
       "    <tr>\n",
       "      <th>3</th>\n",
       "      <td>3</td>\n",
       "      <td>SRR18036907</td>\n",
       "      <td>bovine metagenome</td>\n",
       "    </tr>\n",
       "    <tr>\n",
       "      <th>4</th>\n",
       "      <td>4</td>\n",
       "      <td>SRR18036908</td>\n",
       "      <td>bovine metagenome</td>\n",
       "    </tr>\n",
       "  </tbody>\n",
       "</table>\n",
       "</div>"
      ],
      "text/plain": [
       "   Unnamed: 0          Run     ScientificName\n",
       "0           0  SRR18036904  bovine metagenome\n",
       "1           1  SRR18036905  bovine metagenome\n",
       "2           2  SRR18036906  bovine metagenome\n",
       "3           3  SRR18036907  bovine metagenome\n",
       "4           4  SRR18036908  bovine metagenome"
      ]
     },
     "execution_count": 2,
     "metadata": {},
     "output_type": "execute_result"
    }
   ],
   "source": [
    "run_info = pd.read_csv('sra.runinfo.csv.gz')\n",
    "print(f\"Loaded {len(run_info)} records from sra.runinfo.csv.gz\")\n",
    "run_info.head()"
   ]
  },
  {
   "cell_type": "code",
   "execution_count": 3,
   "id": "9d005f4c",
   "metadata": {},
   "outputs": [],
   "source": [
    "mastiff0_df = pd.read_csv('mastiff_out/akkermansia.x.sra.csv')"
   ]
  },
  {
   "cell_type": "code",
   "execution_count": 4,
   "id": "ea3d2cbc",
   "metadata": {},
   "outputs": [
    {
     "data": {
      "text/html": [
       "<div>\n",
       "<style scoped>\n",
       "    .dataframe tbody tr th:only-of-type {\n",
       "        vertical-align: middle;\n",
       "    }\n",
       "\n",
       "    .dataframe tbody tr th {\n",
       "        vertical-align: top;\n",
       "    }\n",
       "\n",
       "    .dataframe thead th {\n",
       "        text-align: right;\n",
       "    }\n",
       "</style>\n",
       "<table border=\"1\" class=\"dataframe\">\n",
       "  <thead>\n",
       "    <tr style=\"text-align: right;\">\n",
       "      <th></th>\n",
       "      <th>SRA accession</th>\n",
       "      <th>containment</th>\n",
       "    </tr>\n",
       "  </thead>\n",
       "  <tbody>\n",
       "    <tr>\n",
       "      <th>44760</th>\n",
       "      <td>ERR1302068</td>\n",
       "      <td>0.019172</td>\n",
       "    </tr>\n",
       "    <tr>\n",
       "      <th>44761</th>\n",
       "      <td>ERR4194907</td>\n",
       "      <td>0.019172</td>\n",
       "    </tr>\n",
       "    <tr>\n",
       "      <th>44762</th>\n",
       "      <td>ERR1726632</td>\n",
       "      <td>0.019172</td>\n",
       "    </tr>\n",
       "    <tr>\n",
       "      <th>44763</th>\n",
       "      <td>SRR10028495</td>\n",
       "      <td>0.019172</td>\n",
       "    </tr>\n",
       "    <tr>\n",
       "      <th>44764</th>\n",
       "      <td>SRR1197068</td>\n",
       "      <td>0.019172</td>\n",
       "    </tr>\n",
       "  </tbody>\n",
       "</table>\n",
       "</div>"
      ],
      "text/plain": [
       "      SRA accession  containment\n",
       "44760    ERR1302068     0.019172\n",
       "44761    ERR4194907     0.019172\n",
       "44762    ERR1726632     0.019172\n",
       "44763   SRR10028495     0.019172\n",
       "44764    SRR1197068     0.019172"
      ]
     },
     "execution_count": 4,
     "metadata": {},
     "output_type": "execute_result"
    }
   ],
   "source": [
    "mastiff0_df.tail()"
   ]
  },
  {
   "cell_type": "code",
   "execution_count": 5,
   "id": "36ba51c3",
   "metadata": {},
   "outputs": [],
   "source": [
    "mastiff_df = mastiff0_df[mastiff0_df['containment'] > 0.2]"
   ]
  },
  {
   "cell_type": "code",
   "execution_count": 6,
   "id": "724bcf39",
   "metadata": {},
   "outputs": [
    {
     "data": {
      "text/html": [
       "<div>\n",
       "<style scoped>\n",
       "    .dataframe tbody tr th:only-of-type {\n",
       "        vertical-align: middle;\n",
       "    }\n",
       "\n",
       "    .dataframe tbody tr th {\n",
       "        vertical-align: top;\n",
       "    }\n",
       "\n",
       "    .dataframe thead th {\n",
       "        text-align: right;\n",
       "    }\n",
       "</style>\n",
       "<table border=\"1\" class=\"dataframe\">\n",
       "  <thead>\n",
       "    <tr style=\"text-align: right;\">\n",
       "      <th></th>\n",
       "      <th>containment</th>\n",
       "      <th>ScientificName</th>\n",
       "    </tr>\n",
       "    <tr>\n",
       "      <th>SRA accession</th>\n",
       "      <th></th>\n",
       "      <th></th>\n",
       "    </tr>\n",
       "  </thead>\n",
       "  <tbody>\n",
       "    <tr>\n",
       "      <th>ERR3576953</th>\n",
       "      <td>1.0</td>\n",
       "      <td>mouse gut metagenome</td>\n",
       "    </tr>\n",
       "    <tr>\n",
       "      <th>ERR3574923</th>\n",
       "      <td>1.0</td>\n",
       "      <td>mouse gut metagenome</td>\n",
       "    </tr>\n",
       "    <tr>\n",
       "      <th>ERR3576946</th>\n",
       "      <td>1.0</td>\n",
       "      <td>mouse gut metagenome</td>\n",
       "    </tr>\n",
       "    <tr>\n",
       "      <th>ERR1254312</th>\n",
       "      <td>1.0</td>\n",
       "      <td>metagenome</td>\n",
       "    </tr>\n",
       "    <tr>\n",
       "      <th>ERR3571992</th>\n",
       "      <td>1.0</td>\n",
       "      <td>mouse gut metagenome</td>\n",
       "    </tr>\n",
       "  </tbody>\n",
       "</table>\n",
       "</div>"
      ],
      "text/plain": [
       "               containment        ScientificName\n",
       "SRA accession                                   \n",
       "ERR3576953             1.0  mouse gut metagenome\n",
       "ERR3574923             1.0  mouse gut metagenome\n",
       "ERR3576946             1.0  mouse gut metagenome\n",
       "ERR1254312             1.0            metagenome\n",
       "ERR3571992             1.0  mouse gut metagenome"
      ]
     },
     "execution_count": 6,
     "metadata": {},
     "output_type": "execute_result"
    }
   ],
   "source": [
    "mastiff2_df = mastiff_df.set_index('SRA accession').join(run_info.set_index('Run')['ScientificName'])\n",
    "mastiff2_df.head()"
   ]
  },
  {
   "cell_type": "code",
   "execution_count": 7,
   "id": "f1e11b86",
   "metadata": {},
   "outputs": [
    {
     "name": "stdout",
     "output_type": "stream",
     "text": [
      "659\n"
     ]
    }
   ],
   "source": [
    "# how many have 'null' scientific name?\n",
    "null_df = mastiff2_df[mastiff2_df['ScientificName'].isnull()]\n",
    "print(len(null_df))"
   ]
  },
  {
   "cell_type": "code",
   "execution_count": 8,
   "id": "53a0deeb",
   "metadata": {},
   "outputs": [
    {
     "name": "stdout",
     "output_type": "stream",
     "text": [
      "Of 21146 MAGsearch results, 20487 have non-null ScientificName\n"
     ]
    },
    {
     "data": {
      "text/html": [
       "<div>\n",
       "<style scoped>\n",
       "    .dataframe tbody tr th:only-of-type {\n",
       "        vertical-align: middle;\n",
       "    }\n",
       "\n",
       "    .dataframe tbody tr th {\n",
       "        vertical-align: top;\n",
       "    }\n",
       "\n",
       "    .dataframe thead th {\n",
       "        text-align: right;\n",
       "    }\n",
       "</style>\n",
       "<table border=\"1\" class=\"dataframe\">\n",
       "  <thead>\n",
       "    <tr style=\"text-align: right;\">\n",
       "      <th></th>\n",
       "      <th>containment</th>\n",
       "      <th>ScientificName</th>\n",
       "    </tr>\n",
       "    <tr>\n",
       "      <th>SRA accession</th>\n",
       "      <th></th>\n",
       "      <th></th>\n",
       "    </tr>\n",
       "  </thead>\n",
       "  <tbody>\n",
       "    <tr>\n",
       "      <th>ERR3576953</th>\n",
       "      <td>1.0</td>\n",
       "      <td>mouse gut metagenome</td>\n",
       "    </tr>\n",
       "    <tr>\n",
       "      <th>ERR3574923</th>\n",
       "      <td>1.0</td>\n",
       "      <td>mouse gut metagenome</td>\n",
       "    </tr>\n",
       "    <tr>\n",
       "      <th>ERR3576946</th>\n",
       "      <td>1.0</td>\n",
       "      <td>mouse gut metagenome</td>\n",
       "    </tr>\n",
       "    <tr>\n",
       "      <th>ERR1254312</th>\n",
       "      <td>1.0</td>\n",
       "      <td>metagenome</td>\n",
       "    </tr>\n",
       "    <tr>\n",
       "      <th>ERR3571992</th>\n",
       "      <td>1.0</td>\n",
       "      <td>mouse gut metagenome</td>\n",
       "    </tr>\n",
       "  </tbody>\n",
       "</table>\n",
       "</div>"
      ],
      "text/plain": [
       "               containment        ScientificName\n",
       "SRA accession                                   \n",
       "ERR3576953             1.0  mouse gut metagenome\n",
       "ERR3574923             1.0  mouse gut metagenome\n",
       "ERR3576946             1.0  mouse gut metagenome\n",
       "ERR1254312             1.0            metagenome\n",
       "ERR3571992             1.0  mouse gut metagenome"
      ]
     },
     "execution_count": 8,
     "metadata": {},
     "output_type": "execute_result"
    }
   ],
   "source": [
    "mastiff3_df = mastiff2_df[~mastiff2_df['ScientificName'].isnull()]\n",
    "print(f\"Of {len(mastiff2_df)} MAGsearch results, {len(mastiff3_df)} have non-null ScientificName\")\n",
    "mastiff3_df.head()"
   ]
  },
  {
   "cell_type": "code",
   "execution_count": 9,
   "id": "461ae616",
   "metadata": {},
   "outputs": [
    {
     "data": {
      "text/plain": [
       "human gut metagenome      10270\n",
       "mouse gut metagenome       2298\n",
       "human metagenome           1929\n",
       "gut metagenome             1614\n",
       "Homo sapiens               1232\n",
       "metagenome                 1126\n",
       "wastewater metagenome       702\n",
       "feces metagenome            549\n",
       "Mus musculus                298\n",
       "mouse metagenome            147\n",
       "rat gut metagenome           49\n",
       "Rattus norvegicus            35\n",
       "chicken gut metagenome       32\n",
       "metagenomes                  30\n",
       "Gallus gallus                25\n",
       "pig gut metagenome           20\n",
       "Firmicutes bacterium         17\n",
       "unidentified                 13\n",
       "synthetic metagenome         12\n",
       "bovine gut metagenome        12\n",
       "Name: ScientificName, dtype: int64"
      ]
     },
     "execution_count": 9,
     "metadata": {},
     "output_type": "execute_result"
    }
   ],
   "source": [
    "# what are the top ScientificNames of the matches?\n",
    "mastiff3_df[\"ScientificName\"].value_counts()[:20]"
   ]
  },
  {
   "cell_type": "code",
   "execution_count": null,
   "id": "56688675",
   "metadata": {},
   "outputs": [],
   "source": []
  }
 ],
 "metadata": {
  "kernelspec": {
   "display_name": "py38arm",
   "language": "python",
   "name": "py38arm"
  },
  "language_info": {
   "codemirror_mode": {
    "name": "ipython",
    "version": 3
   },
   "file_extension": ".py",
   "mimetype": "text/x-python",
   "name": "python",
   "nbconvert_exporter": "python",
   "pygments_lexer": "ipython3",
   "version": "3.8.13"
  }
 },
 "nbformat": 4,
 "nbformat_minor": 5
}
